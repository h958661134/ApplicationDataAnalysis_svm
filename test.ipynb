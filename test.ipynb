{
 "cells": [
  {
   "cell_type": "code",
   "execution_count": 1,
   "metadata": {
    "collapsed": true
   },
   "outputs": [
    {
     "name": "stdout",
     "output_type": "stream",
     "text": [
      "<csv.DictReader object at 0x000001F2AF007630>\n"
     ]
    },
    {
     "name": "stdout",
     "output_type": "stream",
     "text": [
      "app------------------\n"
     ]
    }
   ],
   "source": [
    "from sklearn import svm\n",
    "import numpy as np\n",
    "import matplotlib.pyplot as plt\n",
    "import csv\n",
    "\n",
    "def c_in(rowx,rowy,list,y):\n",
    "    y.append(rowy)\n",
    "    list.append(rowx)\n",
    "def prediction(clf,list):\n",
    "    res = clf.predict([list])\n",
    "    return res[0]\n",
    "\n",
    "with open(\"G:\\\\untitled1\\\\venv\\\\Include\\\\xs\\\\csv_0.csv\") as f:\n",
    "    with open(\"G:\\\\untitled1\\\\venv\\\\Include\\\\xs\\\\csv_1.csv\") as f1:\n",
    "        f_csv = csv.DictReader(f)\n",
    "        f1_csv = csv.DictReader(f1)\n",
    "        print(f_csv)\n",
    "        # x = []\n",
    "        # y = []\n",
    "        # sign=0\n",
    "        # for (row,row1) in zip(f_csv,f1_csv):\n",
    "        #     if sign==50000:\n",
    "        #         break\n",
    "        #     list = []\n",
    "        #     c_in(row['ip'],row['is_attributed'],list,y)\n",
    "        #     x.append(list)\n",
    "        #     list = []\n",
    "        #     c_in(row1['ip'],row1['is_attributed'],list,y)\n",
    "        #     x.append(list)\n",
    "        #     sign+=1\n",
    "        # print(\"ip------------------\")\n",
    "        # clfip = svm.SVC()  ##默认参数：kernel='rbf'\n",
    "        # clfip.fit(x, y)\n",
    "        # print(\"ip------------------\")\n",
    "\n",
    "        x = []\n",
    "        y = []\n",
    "        sign=0\n",
    "        for (row,row1) in zip(f_csv,f1_csv):\n",
    "            if sign==50000:\n",
    "                break\n",
    "            list = []\n",
    "            c_in(row['app'],row['is_attributed'],list,y)\n",
    "            x.append(list)\n",
    "            list = []\n",
    "            c_in(row1['app'],row1['is_attributed'],list,y)\n",
    "            x.append(list)\n",
    "            sign+=1\n",
    "        print(\"app------------------\")\n",
    "        clfapp = svm.SVC()  ##默认参数：kernel='rbf'\n",
    "        clfapp.fit(x, y)\n",
    "        print(\"app------------------\")\n",
    "\n",
    "        x = []\n",
    "        y = []\n",
    "        sign=0\n",
    "        for (row,row1) in zip(f_csv,f1_csv):\n",
    "            if sign==50000:\n",
    "                break\n",
    "            list = []\n",
    "            c_in(row['device'],row['is_attributed'],list,y)\n",
    "            x.append(list)\n",
    "            list = []\n",
    "            c_in(row1['device'],row1['is_attributed'],list,y)\n",
    "            x.append(list)\n",
    "            sign+=1\n",
    "        print(\"device------------------\")\n",
    "        clfdevice = svm.SVC()  ##默认参数：kernel='rbf'\n",
    "        clfdevice.fit(x, y)\n",
    "        print(\"device------------------\")"
   ]
  }
 ],
 "metadata": {
  "kernelspec": {
   "display_name": "Python 2",
   "language": "python",
   "name": "python2"
  },
  "language_info": {
   "codemirror_mode": {
    "name": "ipython",
    "version": 2
   },
   "file_extension": ".py",
   "mimetype": "text/x-python",
   "name": "python",
   "nbconvert_exporter": "python",
   "pygments_lexer": "ipython2",
   "version": "2.7.6"
  }
 },
 "nbformat": 4,
 "nbformat_minor": 0
}
